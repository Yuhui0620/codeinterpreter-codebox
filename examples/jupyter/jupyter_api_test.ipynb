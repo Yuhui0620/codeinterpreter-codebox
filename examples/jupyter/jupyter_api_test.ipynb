{
 "cells": [
  {
   "cell_type": "code",
   "execution_count": null,
   "metadata": {},
   "outputs": [],
   "source": [
    "import json\n",
    "import requests\n",
    "import datetime\n",
    "import uuid\n",
    "import traceback\n",
    "import base64\n",
    "from websocket import create_connection\n",
    "# base和token會在cmd(命令提示元)，啟動jupyter notebook時出現\n",
    "notebook_path = '/test_01.ipynb'\n",
    "base = 'http://127.0.0.1:10001'\n",
    "headers = {'Authorization': 'Token zhejianzhang'}"
   ]
  },
  {
   "cell_type": "code",
   "execution_count": null,
   "metadata": {},
   "outputs": [],
   "source": [
    "url = base + '/api/sessions'\n",
    "params = '{\"path\":\\\"%s\\\",\"type\":\"notebook\",\"name\":\"\",\"kernel\":{\"id\":null,\"name\":\"python3\"}}' % notebook_path\n",
    "response = requests.post(url, headers=headers, data=params)\n",
    "session = json.loads(response.text)\n",
    "print(session)\n",
    "kernel = session[\"kernel\"]"
   ]
  },
  {
   "cell_type": "code",
   "execution_count": null,
   "metadata": {},
   "outputs": [],
   "source": [
    "# 讀取notebook檔案，並獲取每個Cell裡的Code\n",
    "url = base + '/api/contents' + notebook_path\n",
    "response = requests.get(url,headers=headers)\n",
    "file = json.loads(response.text)\n",
    "code = [ c['source'] for c in file['content']['cells'] if len(c['source'])>0 ]\n",
    "print(code)"
   ]
  },
  {
   "cell_type": "code",
   "execution_count": null,
   "metadata": {},
   "outputs": [],
   "source": [
    "def send_execute_request(code):\n",
    "    msg_id=  uuid.uuid1().hex\n",
    "    print(msg_id)\n",
    "    msg_type = 'execute_request'\n",
    "    content = { 'code' : code, 'silent':False }\n",
    "    hdr = { 'msg_id' :msg_id, \n",
    "        'username': 'test', \n",
    "        'session': uuid.uuid1().hex, \n",
    "        'data': datetime.datetime.now().isoformat(),\n",
    "        'msg_type': msg_type,\n",
    "        'version' : '5.0' }\n",
    "    msg = { 'header': hdr, 'parent_header': hdr, \n",
    "        'metadata': {},\n",
    "        'content': content }\n",
    "    return msg"
   ]
  },
  {
   "cell_type": "code",
   "execution_count": null,
   "metadata": {},
   "outputs": [],
   "source": [
    "# 開始啟動 WebSocket channels (request/reply)\n",
    "ws = create_connection(\"ws://127.0.0.1:10001/api/kernels/\"+kernel[\"id\"]+\"/channels?session_id\"+session[\"id\"], header=headers)\n",
    "# for c in code:\n",
    "#     ws.send(json.dumps(send_execute_request(c)))"
   ]
  },
  {
   "cell_type": "code",
   "execution_count": null,
   "metadata": {},
   "outputs": [],
   "source": [
    "c = \"\"\"\n",
    "import matplotlib.pyplot as plt\n",
    "import time\n",
    "\n",
    "# 数据\n",
    "x = [1, 2, 3, 4, 5]\n",
    "y = [1, 4, 9, 16, 25]\n",
    "\n",
    "# 创建折线图\n",
    "plt.plot(x, y, marker='o')\n",
    "\n",
    "# 添加标题和轴标签\n",
    "plt.title(\"Simple Line Plot\")\n",
    "plt.xlabel(\"X Axis\")\n",
    "plt.ylabel(\"Y Axis\")\n",
    "\n",
    "# 显示图形\n",
    "plt.grid(True)  # 显示网格线\n",
    "plt.show()\n",
    "\n",
    "x = [1, 2, 3, 4, 5]\n",
    "y = [1, 4, 9, 16, 25]\n",
    "\n",
    "# 创建折线图\n",
    "plt.plot(x, y, marker='o')\n",
    "\n",
    "# 添加标题和轴标签\n",
    "plt.title(\"Simple Line Plot\")\n",
    "plt.xlabel(\"X Axis\")\n",
    "plt.ylabel(\"Y Axis\")\n",
    "\n",
    "# 显示图形\n",
    "plt.grid(True)  # 显示网格线\n",
    "plt.show()\n",
    "\n",
    "for i in x:\n",
    "    print(i)\n",
    "    time.sleep(1)\n",
    "\"\"\"\n",
    "code = [c]\n",
    "# 我們只拿Code執行完的訊息結果，其他訊息將被忽略\n",
    "for i in range(0, len(code)):\n",
    "    ws.send(json.dumps(send_execute_request(code[i])))\n",
    "    try:\n",
    "        msg_type = ''\n",
    "        while True:\n",
    "            rsp = json.loads(ws.recv())\n",
    "            print(rsp)\n",
    "            msg_type = rsp[\"msg_type\"]\n",
    "            # print(msg_type)\n",
    "            # 顯示列印內容\n",
    "            if msg_type == \"stream\":\n",
    "                print(rsp[\"content\"][\"text\"])\n",
    "            elif msg_type == \"execute_result\":\n",
    "                # 顯示圖片編碼\n",
    "                if \"image/png\" in (rsp[\"content\"][\"data\"].keys()):\n",
    "                    \n",
    "                    print(rsp[\"content\"][\"data\"][\"image/png\"])\n",
    "                # 顯示輸出結果\n",
    "                else:\n",
    "                    print(rsp[\"content\"][\"data\"][\"text/plain\"])\n",
    "                # 顯示計算表格\n",
    "            elif msg_type == \"display_data\":\n",
    "                image_data = rsp[\"content\"][\"data\"][\"image/png\"]\n",
    "\n",
    "                with open('output_image.png', 'wb') as f:\n",
    "                    f.write(base64.b64decode(image_data))\n",
    "                print('image saved')\n",
    "                print(rsp[\"content\"][\"data\"][\"image/png\"])\n",
    "            # 顯示錯誤訊息\n",
    "            elif msg_type == \"error\":\n",
    "                print(rsp[\"content\"][\"traceback\"])\n",
    "            # 當狀態為idle，代表ws.recv()已經沒有任何訊息\n",
    "            elif msg_type == \"status\" and rsp[\"content\"][\"execution_state\"] == \"idle\":\n",
    "                pass\n",
    "    except:\n",
    "            traceback.print_exc()\n",
    "            ws.close()\n",
    "            \n",
    "ws.close()"
   ]
  },
  {
   "cell_type": "code",
   "execution_count": null,
   "metadata": {},
   "outputs": [],
   "source": [
    "# ws = yield websocket_connect(ws_req)"
   ]
  }
 ],
 "metadata": {
  "kernelspec": {
   "display_name": "datagpt",
   "language": "python",
   "name": "python3"
  },
  "language_info": {
   "codemirror_mode": {
    "name": "ipython",
    "version": 3
   },
   "file_extension": ".py",
   "mimetype": "text/x-python",
   "name": "python",
   "nbconvert_exporter": "python",
   "pygments_lexer": "ipython3",
   "version": "3.11.4"
  },
  "orig_nbformat": 4
 },
 "nbformat": 4,
 "nbformat_minor": 2
}
